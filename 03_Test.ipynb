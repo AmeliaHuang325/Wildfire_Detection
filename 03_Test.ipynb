{
 "cells": [
  {
   "cell_type": "code",
   "execution_count": 2,
   "metadata": {},
   "outputs": [],
   "source": [
    "from ultralytics import YOLO\n",
    "\n",
    "# Load the trained model (change path if needed)\n",
    "model = YOLO(\"runs/detect/train4/weights/best.pt\")\n"
   ]
  },
  {
   "cell_type": "code",
   "execution_count": 5,
   "metadata": {},
   "outputs": [
    {
     "name": "stdout",
     "output_type": "stream",
     "text": [
      "\n",
      "\n",
      "image 1/1 c:\\Users\\sh3685\\Desktop\\Shuyang Huang\\00_Github\\Wildfire_Detection\\wildfire_aerial.jpg: 448x640 1 fire, 106.6ms\n",
      "image 1/1 c:\\Users\\sh3685\\Desktop\\Shuyang Huang\\00_Github\\Wildfire_Detection\\wildfire_aerial.jpg: 448x640 1 fire, 106.6ms\n",
      "Speed: 4.9ms preprocess, 106.6ms inference, 1.1ms postprocess per image at shape (1, 3, 448, 640)\n",
      "Speed: 4.9ms preprocess, 106.6ms inference, 1.1ms postprocess per image at shape (1, 3, 448, 640)\n"
     ]
    }
   ],
   "source": [
    "# Run prediction on the image\n",
    "results = model.predict(\"wildfire_aerial.jpg\", conf=0.5)\n"
   ]
  },
  {
   "cell_type": "code",
   "execution_count": 6,
   "metadata": {},
   "outputs": [],
   "source": [
    "# Display detections\n",
    "for result in results:\n",
    "    result.show()\n"
   ]
  },
  {
   "cell_type": "code",
   "execution_count": 7,
   "metadata": {},
   "outputs": [],
   "source": [
    "for i, result in enumerate(results):\n",
    "    result.save(f\"output_{i}.jpg\")  # Saves as 'output_0.jpg', 'output_1.jpg', etc."
   ]
  },
  {
   "cell_type": "code",
   "execution_count": null,
   "metadata": {},
   "outputs": [],
   "source": []
  }
 ],
 "metadata": {
  "kernelspec": {
   "display_name": "base",
   "language": "python",
   "name": "python3"
  },
  "language_info": {
   "codemirror_mode": {
    "name": "ipython",
    "version": 3
   },
   "file_extension": ".py",
   "mimetype": "text/x-python",
   "name": "python",
   "nbconvert_exporter": "python",
   "pygments_lexer": "ipython3",
   "version": "3.11.5"
  }
 },
 "nbformat": 4,
 "nbformat_minor": 2
}
