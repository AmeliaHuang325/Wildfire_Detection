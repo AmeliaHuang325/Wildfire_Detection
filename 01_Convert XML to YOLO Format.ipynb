{
 "cells": [
  {
   "cell_type": "code",
   "execution_count": null,
   "metadata": {},
   "outputs": [],
   "source": [
    "# pip install opencv-python lxml numpy tqdm"
   ]
  },
  {
   "cell_type": "code",
   "execution_count": null,
   "metadata": {},
   "outputs": [],
   "source": [
    "import os\n",
    "import xml.etree.ElementTree as ET\n",
    "import glob\n",
    "\n",
    "# Paths\n",
    "image_folder = \"Wildfire photos/Datacluster Fire and Smoke Sample\"\n",
    "annotation_folder = \"Wildfire photos/Annotations\"\n",
    "output_label_folder = \"Wildfire photos/YOLO_labels\"\n",
    "\n",
    "# Create output folder if not exists\n",
    "os.makedirs(output_label_folder, exist_ok=True)\n",
    "\n",
    "# Class Mapping\n",
    "# class_mapping = {\"fire\": 0, \"smoke\": 1}  # Assign unique IDs to classes - There is no smoke label in the dataset\n",
    "\n",
    "class_mapping = {\"fire\": 0}\n",
    "\n",
    "# Function to convert XML to YOLO format\n",
    "def convert_xml_to_yolo(xml_file):\n",
    "    tree = ET.parse(xml_file)\n",
    "    root = tree.getroot()\n",
    "\n",
    "    # Get image size\n",
    "    img_width = int(root.find(\"size/width\").text)\n",
    "    img_height = int(root.find(\"size/height\").text)\n",
    "\n",
    "    # Get image filename\n",
    "    filename = root.find(\"filename\").text.replace(\".jpg\", \".txt\")\n",
    "    output_file = os.path.join(output_label_folder, filename)\n",
    "\n",
    "    with open(output_file, \"w\") as f:\n",
    "        for obj in root.findall(\"object\"):\n",
    "            class_name = obj.find(\"name\").text\n",
    "            if class_name not in class_mapping:\n",
    "                continue  # Skip unknown classes\n",
    "\n",
    "            class_id = class_mapping[class_name]\n",
    "\n",
    "            # Get bounding box coordinates\n",
    "            bndbox = obj.find(\"bndbox\")\n",
    "            xmin = float(bndbox.find(\"xmin\").text)\n",
    "            ymin = float(bndbox.find(\"ymin\").text)\n",
    "            xmax = float(bndbox.find(\"xmax\").text)\n",
    "            ymax = float(bndbox.find(\"ymax\").text)\n",
    "\n",
    "            # Convert to YOLO format (normalized)\n",
    "            x_center = ((xmin + xmax) / 2) / img_width\n",
    "            y_center = ((ymin + ymax) / 2) / img_height\n",
    "            width = (xmax - xmin) / img_width\n",
    "            height = (ymax - ymin) / img_height\n",
    "\n",
    "            # Write to file\n",
    "            f.write(f\"{class_id} {x_center:.6f} {y_center:.6f} {width:.6f} {height:.6f}\\n\")\n",
    "\n",
    "# Convert all XML files\n",
    "xml_files = glob.glob(os.path.join(annotation_folder, \"*.xml\"))\n",
    "for xml_file in xml_files:\n",
    "    convert_xml_to_yolo(xml_file)\n",
    "\n",
    "print(f\"Saved in '{output_label_folder}'\")\n"
   ]
  },
  {
   "cell_type": "code",
   "execution_count": null,
   "metadata": {},
   "outputs": [],
   "source": []
  },
  {
   "cell_type": "code",
   "execution_count": null,
   "metadata": {},
   "outputs": [],
   "source": []
  }
 ],
 "metadata": {
  "kernelspec": {
   "display_name": "Python 3",
   "language": "python",
   "name": "python3"
  },
  "language_info": {
   "codemirror_mode": {
    "name": "ipython",
    "version": 3
   },
   "file_extension": ".py",
   "mimetype": "text/x-python",
   "name": "python",
   "nbconvert_exporter": "python",
   "pygments_lexer": "ipython3",
   "version": "3.13.1"
  }
 },
 "nbformat": 4,
 "nbformat_minor": 2
}
