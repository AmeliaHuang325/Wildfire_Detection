{
 "cells": [
  {
   "cell_type": "code",
   "execution_count": 7,
   "metadata": {},
   "outputs": [],
   "source": [
    "import cv2\n",
    "import os\n",
    "\n",
    "# Image and output file paths\n",
    "image_path = \"wildfire_aerial.jpg\"  \n",
    "label_path = image_path.replace(\".jpg\", \".txt\")  # YOLO label file"
   ]
  },
  {
   "cell_type": "code",
   "execution_count": 8,
   "metadata": {},
   "outputs": [],
   "source": [
    "# YOLO class ID for fire\n",
    "CLASS_ID = 0\n",
    "\n",
    "# List to store bounding boxes\n",
    "bboxes = []\n",
    "drawing = False\n",
    "x_start, y_start, x_end, y_end = 0, 0, 0, 0"
   ]
  },
  {
   "cell_type": "code",
   "execution_count": 9,
   "metadata": {},
   "outputs": [],
   "source": [
    "# Load the image\n",
    "image = cv2.imread(image_path)\n",
    "image_copy = image.copy()"
   ]
  },
  {
   "cell_type": "code",
   "execution_count": 10,
   "metadata": {},
   "outputs": [],
   "source": [
    "# Mouse callback function\n",
    "def draw_rectangle(event, x, y, flags, param):\n",
    "    global x_start, y_start, x_end, y_end, drawing, image_copy\n",
    "\n",
    "    if event == cv2.EVENT_LBUTTONDOWN:\n",
    "        drawing = True\n",
    "        x_start, y_start = x, y\n",
    "\n",
    "    elif event == cv2.EVENT_MOUSEMOVE:\n",
    "        if drawing:\n",
    "            image_copy = image.copy()\n",
    "            cv2.rectangle(image_copy, (x_start, y_start), (x, y), (0, 255, 0), 2)\n",
    "\n",
    "    elif event == cv2.EVENT_LBUTTONUP:\n",
    "        drawing = False\n",
    "        x_end, y_end = x, y\n",
    "        cv2.rectangle(image_copy, (x_start, y_start), (x_end, y_end), (0, 255, 0), 2)\n",
    "        bboxes.append((x_start, y_start, x_end, y_end))"
   ]
  },
  {
   "cell_type": "code",
   "execution_count": 11,
   "metadata": {},
   "outputs": [
    {
     "name": "stdout",
     "output_type": "stream",
     "text": [
      "Fire labeled!\n",
      "Fire labeled!\n",
      "Fire labeled!\n",
      "Fire labeled!\n"
     ]
    }
   ],
   "source": [
    "# Create window and set mouse callback\n",
    "cv2.namedWindow(\"Label Fire\")\n",
    "cv2.setMouseCallback(\"Label Fire\", draw_rectangle)\n",
    "\n",
    "while True:\n",
    "    cv2.imshow(\"Label Fire\", image_copy)\n",
    "    key = cv2.waitKey(1) & 0xFF\n",
    "\n",
    "    if key == 13:  # Press Enter to confirm bounding box\n",
    "        print(\"Fire labeled!\")\n",
    "    \n",
    "    elif key == ord('q'):  # Press 'Q' to save and quit\n",
    "        break\n",
    "\n",
    "cv2.destroyAllWindows()"
   ]
  },
  {
   "cell_type": "code",
   "execution_count": 12,
   "metadata": {},
   "outputs": [
    {
     "name": "stdout",
     "output_type": "stream",
     "text": [
      "Labels saved in wildfire_aerial.txt\n"
     ]
    }
   ],
   "source": [
    "# Save labels in YOLO format\n",
    "if bboxes:\n",
    "    h, w, _ = image.shape\n",
    "    with open(label_path, \"w\") as f:\n",
    "        for (x1, y1, x2, y2) in bboxes:\n",
    "            x_center = (x1 + x2) / 2 / w\n",
    "            y_center = (y1 + y2) / 2 / h\n",
    "            width = (x2 - x1) / w\n",
    "            height = (y2 - y1) / h\n",
    "            f.write(f\"{CLASS_ID} {x_center:.6f} {y_center:.6f} {width:.6f} {height:.6f}\\n\")\n",
    "    print(f\"Labels saved in {label_path}\")\n",
    "else:\n",
    "    print(\"No labels were saved.\")"
   ]
  },
  {
   "cell_type": "code",
   "execution_count": null,
   "metadata": {},
   "outputs": [],
   "source": []
  }
 ],
 "metadata": {
  "kernelspec": {
   "display_name": "Python 3",
   "language": "python",
   "name": "python3"
  },
  "language_info": {
   "codemirror_mode": {
    "name": "ipython",
    "version": 3
   },
   "file_extension": ".py",
   "mimetype": "text/x-python",
   "name": "python",
   "nbconvert_exporter": "python",
   "pygments_lexer": "ipython3",
   "version": "3.13.1"
  }
 },
 "nbformat": 4,
 "nbformat_minor": 2
}
